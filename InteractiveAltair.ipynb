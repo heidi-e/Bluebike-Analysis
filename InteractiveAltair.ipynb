{
 "cells": [
  {
   "cell_type": "code",
   "execution_count": null,
   "outputs": [],
   "source": [
    "import pandas as pd\n",
    "\n",
    "# read in the trips file\n",
    "trips = pd.read_csv(\"datasets/202301-bluebikes-tripdata.csv\")"
   ],
   "metadata": {
    "collapsed": false,
    "pycharm": {
     "name": "#%%\n"
    }
   }
  },
  {
   "cell_type": "code",
   "execution_count": null,
   "outputs": [],
   "source": [
    "# read in the stations file\n",
    "stations = pd.read_csv(\"datasets/current_bluebikes_stations.csv\", header=1)"
   ],
   "metadata": {
    "collapsed": false,
    "pycharm": {
     "name": "#%%\n"
    }
   }
  },
  {
   "cell_type": "code",
   "execution_count": null,
   "outputs": [],
   "source": [
    "# merge the two dataframes\n",
    "merged_df = trips.merge(stations, left_on='start station name', right_on='Name')"
   ],
   "metadata": {
    "collapsed": false,
    "pycharm": {
     "name": "#%%\n"
    }
   }
  },
  {
   "cell_type": "code",
   "execution_count": null,
   "outputs": [],
   "source": [
    "# exclude Salem information (since we are plotting this geospatially, Salem will appear too far away)\n",
    "merged_df = merged_df[merged_df[\"District\"] != \"Salem\"]"
   ],
   "metadata": {
    "collapsed": false,
    "pycharm": {
     "name": "#%%\n"
    }
   }
  },
  {
   "cell_type": "code",
   "execution_count": null,
   "outputs": [],
   "source": [
    "import geopandas as gpd\n",
    "\n",
    "# Load the mbta bus station data from a shapefile\n",
    "gdf = gpd.read_file(\"datasets/mbtabus/MBTABUSSTOPS_PT.shp\")\n",
    "\n",
    "# Check the current Coordinate Reference System (CRS)\n",
    "print(\"Original CRS:\", gdf.crs)\n",
    "\n",
    "# Reproject the GeoDataFrame to EPSG:4326\n",
    "gdf = gdf.to_crs(\"EPSG:4326\")\n",
    "\n",
    "# Extract latitude and longitude from the geometry column\n",
    "gdf[\"Latitude\"] = gdf.geometry.y\n",
    "gdf[\"Longitude\"] = gdf.geometry.x\n"
   ],
   "metadata": {
    "collapsed": false,
    "pycharm": {
     "name": "#%%\n"
    }
   }
  },
  {
   "cell_type": "code",
   "execution_count": null,
   "outputs": [],
   "source": [
    "# Load the mbta train station file from a shapefile\n",
    "train_gdf = gpd.read_file(\"datasets/mbta_rapid_transit/MBTA_NODE.shp\")\n",
    "\n",
    "# Check the current Coordinate Reference System (CRS)\n",
    "print(\"Original CRS:\", train_gdf.crs)\n",
    "\n",
    "# Reproject the GeoDataFrame to EPSG:4326\n",
    "train_gdf = train_gdf.to_crs(\"EPSG:4326\")\n",
    "\n",
    "# Extract latitude and longitude from the geometry column\n",
    "train_gdf[\"Latitude\"] = train_gdf.geometry.y\n",
    "train_gdf[\"Longitude\"] = train_gdf.geometry.x"
   ],
   "metadata": {
    "collapsed": false,
    "pycharm": {
     "name": "#%%\n"
    }
   }
  },
  {
   "cell_type": "code",
   "execution_count": null,
   "outputs": [],
   "source": [
    "# exclude unnescessary\n",
    "train_gdf = train_gdf[[\"STATION\", \"LINE\", \"Latitude\", \"Longitude\"]]"
   ],
   "metadata": {
    "collapsed": false,
    "pycharm": {
     "name": "#%%\n"
    }
   }
  },
  {
   "cell_type": "code",
   "execution_count": null,
   "outputs": [],
   "source": [
    "# combine the station name and the station line (Orange, Red, Green, etc.)\n",
    "train_gdf[\"STATION\"] = train_gdf[\"STATION\"] + \" on \" + train_gdf[\"LINE\"] + \" Line\"\n",
    "train_gdf = train_gdf.drop(columns=[\"LINE\"])"
   ],
   "metadata": {
    "collapsed": false,
    "pycharm": {
     "name": "#%%\n"
    }
   }
  },
  {
   "cell_type": "code",
   "execution_count": null,
   "outputs": [],
   "source": [
    "# exclude unnescessary\n",
    "bus_gdf = gdf[[\"STOP_NAME\", \"Latitude\", \"Longitude\"]]"
   ],
   "metadata": {
    "collapsed": false,
    "pycharm": {
     "name": "#%%\n"
    }
   }
  },
  {
   "cell_type": "code",
   "execution_count": null,
   "outputs": [],
   "source": [
    "# rename columns\n",
    "bus_gdf = bus_gdf.rename(columns={\"Latitude\": \"Bus_Stop_Lat\", \"Longitude\": \"Bus_Stop_Long\"})"
   ],
   "metadata": {
    "collapsed": false,
    "pycharm": {
     "name": "#%%\n"
    }
   }
  },
  {
   "cell_type": "code",
   "execution_count": null,
   "outputs": [],
   "source": [
    "from scipy.spatial import cKDTree\n",
    "import pandas as pd\n",
    "import numpy as np\n",
    "\n",
    "# Convert station and bus stop coordinates into 2D NumPy arrays\n",
    "stations_coordinates = np.array(merged_df[['Latitude', 'Longitude']])\n",
    "bus_stops_coordinates = np.array(bus_gdf[['Bus_Stop_Lat', 'Bus_Stop_Long']])\n",
    "\n",
    "# Create a cKDTree object for bus stops for efficient nearest neighbor search\n",
    "tree = cKDTree(bus_stops_coordinates)\n",
    "\n",
    "# Query the tree for the nearest bus stop to each station\n",
    "# distances: The distances to the nearest neighbors.\n",
    "# indices: The locations of the neighbors in bus_gdf.\n",
    "distances, indices = tree.query(stations_coordinates, k=1) # k=1 for the closest bus stop\n",
    "\n",
    "# Making sure bus_gdf has a consistent index for direct row access\n",
    "bus_gdf_reset = bus_gdf.reset_index()\n",
    "\n",
    "# Use indices to fetch and add closest bus stop info into merged_df\n",
    "merged_df['closest_bus_stop_lat'] = bus_gdf_reset.iloc[indices]['Bus_Stop_Lat'].values\n",
    "merged_df['closest_bus_stop_long'] = bus_gdf_reset.iloc[indices]['Bus_Stop_Long'].values\n",
    "merged_df['closest_bus_stop_name'] = bus_gdf_reset.iloc[indices]['STOP_NAME'].values\n",
    "merged_df['distance_to_closest_bus_stop_km'] = distances\n"
   ],
   "metadata": {
    "collapsed": false,
    "pycharm": {
     "name": "#%%\n"
    }
   }
  },
  {
   "cell_type": "code",
   "execution_count": null,
   "outputs": [],
   "source": [
    "# Convert station and bus stop coordinates into 2D NumPy arrays\n",
    "stations_coordinates = np.array(merged_df[['Latitude', 'Longitude']])\n",
    "train_stops_coordinates = np.array(train_gdf[['Latitude', 'Longitude']])\n",
    "\n",
    "# Create a cKDTree object for bus stops for efficient nearest neighbor search\n",
    "tree = cKDTree(train_stops_coordinates)\n",
    "\n",
    "# Query the tree for the nearest bus stop to each station\n",
    "# distances: The distances to the nearest neighbors.\n",
    "# indices: The locations of the neighbors in bus_gdf.\n",
    "distances, indices = tree.query(stations_coordinates, k=1) # k=1 for the closest bus stop\n",
    "\n",
    "# Making sure bus_gdf has a consistent index for direct row access\n",
    "train_gdf_reset = train_gdf.reset_index()\n",
    "\n",
    "# Use indices to fetch and add closest bus stop info into merged_df\n",
    "merged_df['closest_train_stop_lat'] = train_gdf_reset.iloc[indices]['Latitude'].values\n",
    "merged_df['closest_train_stop_long'] = train_gdf_reset.iloc[indices]['Longitude'].values\n",
    "merged_df['closest_train_stop_name'] = train_gdf_reset.iloc[indices]['STATION'].values\n",
    "merged_df['distance_to_closest_train_stop_km'] = distances\n"
   ],
   "metadata": {
    "collapsed": false,
    "pycharm": {
     "name": "#%%\n"
    }
   }
  },
  {
   "cell_type": "code",
   "execution_count": null,
   "outputs": [],
   "source": [
    "import altair as alt\n",
    "\n",
    "# groupby the attributes we want to include, and count the trips\n",
    "station_trip_counts = merged_df.groupby(['Name', 'Latitude', 'Longitude', 'closest_bus_stop_name', \"closest_train_stop_name\"]).size().reset_index(name='Trip Count')\n",
    "\n",
    "# create an Altair scatter plot\n",
    "chart = alt.Chart(station_trip_counts).mark_circle().encode(\n",
    "    x=alt.X('Longitude:Q', title='Longitude', scale=alt.Scale(domain=(-71.248, -70.98))), # longitude of bike stations\n",
    "    y=alt.Y('Latitude:Q', scale=alt.Scale(domain=(42.255, 42.43)), title='Latitude'), # latitude of bike stations\n",
    "    size=alt.Size('Trip Count:Q', title='Number of Trips'),  # Size of points based on trip count\n",
    "    color=alt.value('steelblue'),  # Set a fixed color for all points\n",
    "    tooltip=['Name:N', 'Trip Count:Q', 'closest_bus_stop_name:N', 'closest_train_stop_name:N']\n",
    ").properties(\n",
    "    title='Most Popular BlueBike Stations with Closest Bus and Train Stops',\n",
    "    width=600,\n",
    "    height=400\n",
    ")\n",
    "\n",
    "chart.display()"
   ],
   "metadata": {
    "collapsed": false,
    "pycharm": {
     "name": "#%%\n"
    }
   }
  }
 ],
 "metadata": {
  "kernelspec": {
   "display_name": "Python 3 (ipykernel)",
   "language": "python",
   "name": "python3"
  },
  "language_info": {
   "codemirror_mode": {
    "name": "ipython",
    "version": 3
   },
   "file_extension": ".py",
   "mimetype": "text/x-python",
   "name": "python",
   "nbconvert_exporter": "python",
   "pygments_lexer": "ipython3",
   "version": "3.11.5"
  }
 },
 "nbformat": 4,
 "nbformat_minor": 1
}